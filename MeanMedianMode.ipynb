{
 "cells": [
  {
   "cell_type": "markdown",
   "metadata": {},
   "source": [
    "# Mean, Median, Mode, and introducing NumPy"
   ]
  },
  {
   "cell_type": "markdown",
   "metadata": {},
   "source": [
    "## Mean vs. Median"
   ]
  },
  {
   "cell_type": "markdown",
   "metadata": {},
   "source": [
    "Let's create some fake income data, centered around 27,000 with a normal distribution and standard deviation of 15,000, with 10,000 data points. (We'll discuss those terms more later, if you're not familiar with them.)\n",
    "\n",
    "Then, compute the mean (average) - it should be close to 27,000:"
   ]
  },
  {
   "cell_type": "code",
   "execution_count": 1,
   "metadata": {},
   "outputs": [
    {
     "data": {
      "text/plain": [
       "26851.456694237124"
      ]
     },
     "execution_count": 1,
     "metadata": {},
     "output_type": "execute_result"
    }
   ],
   "source": [
    "import numpy as np\n",
    "\n",
    "incomes = np.random.normal(27000, 15000, 10000)\n",
    "np.mean(incomes)"
   ]
  },
  {
   "cell_type": "markdown",
   "metadata": {},
   "source": [
    "We can segment the income data into 50 buckets, and plot it as a histogram:"
   ]
  },
  {
   "cell_type": "code",
   "execution_count": 2,
   "metadata": {},
   "outputs": [
    {
     "data": {
      "image/png": "[encoded data removed]",
      "text/plain": [
       "<Figure size 640x480 with 1 Axes>"
      ]
     },
     "metadata": {},
     "output_type": "display_data"
    }
   ],
   "source": [
    "%matplotlib inline\n",
    "import matplotlib.pyplot as plt\n",
    "plt.hist(incomes, 50)\n",
    "plt.show()"
   ]
  },
  {
   "cell_type": "markdown",
   "metadata": {},
   "source": [
    "Now compute the median - since we have a nice, even distribution it too should be close to 27,000:"
   ]
  },
  {
   "cell_type": "code",
   "execution_count": 3,
   "metadata": {},
   "outputs": [
    {
     "data": {
      "text/plain": [
       "26865.852755003187"
      ]
     },
     "execution_count": 3,
     "metadata": {},
     "output_type": "execute_result"
    }
   ],
   "source": [
    "np.median(incomes)"
   ]
  },
  {
   "cell_type": "markdown",
   "metadata": {},
   "source": [
    "Now we'll add Jeff Bezos into the mix. Darn income inequality!"
   ]
  },
  {
   "cell_type": "code",
   "execution_count": 4,
   "metadata": {},
   "outputs": [],
   "source": [
    "incomes = np.append(incomes, [1000000000])"
   ]
  },
  {
   "cell_type": "markdown",
   "metadata": {},
   "source": [
    "The median won't change much, but the mean does:"
   ]
  },
  {
   "cell_type": "code",
   "execution_count": 5,
   "metadata": {},
   "outputs": [
    {
     "data": {
      "text/plain": [
       "26867.803132280715"
      ]
     },
     "execution_count": 5,
     "metadata": {},
     "output_type": "execute_result"
    }
   ],
   "source": [
    "np.median(incomes)"
   ]
  },
  {
   "cell_type": "code",
   "execution_count": 6,
   "metadata": {},
   "outputs": [
    {
     "data": {
      "text/plain": [
       "126838.77281695542"
      ]
     },
     "execution_count": 6,
     "metadata": {},
     "output_type": "execute_result"
    }
   ],
   "source": [
    "np.mean(incomes)"
   ]
  },
  {
   "cell_type": "markdown",
   "metadata": {},
   "source": [
    "## Mode"
   ]
  },
  {
   "cell_type": "markdown",
   "metadata": {},
   "source": [
    "Next, let's generate some fake age data for 500 people:"
   ]
  },
  {
   "cell_type": "code",
   "execution_count": 7,
   "metadata": {},
   "outputs": [
    {
     "data": {
      "text/plain": [
       "array([27, 55, 53, 27, 34, 50, 24, 79, 53, 49, 73, 69, 34, 18, 52, 78, 36,\n",
       "       46, 85, 24, 48, 76, 38, 21, 44, 88, 35, 37, 36, 64, 38, 44, 36, 22,\n",
       "       43, 84, 21, 59, 69, 24, 80, 18, 29, 33, 38, 73, 30, 32, 41, 37, 87,\n",
       "       46, 28, 51, 73, 28, 84, 89, 64, 37, 85, 45, 42, 36, 62, 38, 39, 79,\n",
       "       43, 40, 83, 36, 83, 22, 30, 35, 30, 34, 35, 83, 72, 45, 44, 39, 45,\n",
       "       56, 61, 29, 80, 51, 68, 46, 35, 71, 37, 37, 87, 40, 18, 33, 21, 88,\n",
       "       60, 75, 18, 86, 71, 46, 51, 57, 50, 18, 39, 18, 26, 38, 20, 25, 19,\n",
       "       81, 89, 51, 28, 48, 82, 74, 30, 29, 75, 47, 30, 22, 86, 73, 46, 64,\n",
       "       59, 36, 39, 76, 89, 44, 64, 61, 80, 85, 44, 36, 77, 24, 33, 49, 52,\n",
       "       47, 61, 63, 60, 74, 34, 80, 55, 84, 33, 26, 29, 34, 42, 39, 56, 37,\n",
       "       56, 58, 50, 77, 67, 87, 71, 72, 49, 81, 75, 27, 75, 32, 75, 36, 36,\n",
       "       46, 29, 32, 47, 82, 26, 54, 65, 56, 36, 73, 21, 31, 61, 84, 41, 69,\n",
       "       89, 49, 76, 26, 54, 76, 68, 23, 83, 63, 76, 68, 48, 77, 57, 84, 85,\n",
       "       22, 34, 60, 79, 78, 37, 19, 66, 38, 46, 53, 53, 88, 38, 75, 85, 18,\n",
       "       69, 58, 57, 24, 40, 73, 73, 22, 72, 75, 62, 70, 83, 83, 69, 77, 33,\n",
       "       36, 42, 65, 37, 30, 50, 21, 55, 32, 36, 88, 19, 24, 78, 55, 52, 24,\n",
       "       43, 39, 66, 44, 35, 38, 57, 80, 38, 81, 62, 57, 27, 88, 60, 59, 59,\n",
       "       39, 88, 66, 89, 38, 26, 56, 29, 20, 71, 46, 42, 60, 79, 29, 76, 67,\n",
       "       27, 19, 78, 83, 34, 39, 86, 43, 85, 58, 34, 78, 69, 78, 51, 59, 74,\n",
       "       61, 72, 29, 28, 66, 84, 88, 78, 52, 40, 48, 48, 63, 52, 83, 73, 37,\n",
       "       32, 85, 44, 66, 52, 30, 81, 35, 24, 77, 87, 29, 52, 51, 81, 28, 47,\n",
       "       33, 23, 45, 24, 66, 67, 61, 57, 51, 65, 48, 44, 32, 21, 35, 74, 18,\n",
       "       39, 47, 82, 53, 34, 50, 73, 73, 43, 47, 43, 20, 87, 87, 86, 44, 21,\n",
       "       28, 63, 30, 30, 60, 74, 28, 45, 44, 69, 53, 84, 45, 30, 64, 80, 55,\n",
       "       35, 37, 87, 79, 26, 58, 83, 83, 64, 73, 75, 66, 28, 43, 37, 45, 33,\n",
       "       64, 61, 47, 24, 35, 34, 25, 54, 76, 67, 42, 62, 50, 65, 37, 31, 88,\n",
       "       29, 34, 82, 41, 56, 42, 23, 50, 58, 35, 18, 69, 25, 48, 87, 53, 77,\n",
       "       18, 87, 21, 53, 25, 50, 19, 30, 47, 32, 41, 58, 66, 75, 63, 67, 29,\n",
       "       71, 78, 27, 89, 47, 25, 60, 57, 26, 38, 53, 73, 88, 32, 71, 87, 25,\n",
       "       82, 86, 18, 42, 31, 82, 37])"
      ]
     },
     "execution_count": 7,
     "metadata": {},
     "output_type": "execute_result"
    }
   ],
   "source": [
    "ages = np.random.randint(18, high=90, size=500)\n",
    "ages"
   ]
  },
  {
   "cell_type": "code",
   "execution_count": 8,
   "metadata": {},
   "outputs": [
    {
     "name": "stderr",
     "output_type": "stream",
     "text": [
      "C:\\Users\\adam\\AppData\\Local\\Temp\\ipykernel_6692\\2994774060.py:2: FutureWarning: Unlike other reduction functions (e.g. `skew`, `kurtosis`), the default behavior of `mode` typically preserves the axis it acts along. In SciPy 1.11.0, this behavior will change: the default value of `keepdims` will become False, the `axis` over which the statistic is taken will be eliminated, and the value None will no longer be accepted. Set `keepdims` to True or False to avoid this warning.\n",
      "  stats.mode(ages)\n"
     ]
    },
    {
     "data": {
      "text/plain": [
       "ModeResult(mode=array([37]), count=array([13]))"
      ]
     },
     "execution_count": 8,
     "metadata": {},
     "output_type": "execute_result"
    }
   ],
   "source": [
    "from scipy import stats\n",
    "stats.mode(ages)"
   ]
  },
  {
   "cell_type": "code",
   "execution_count": null,
   "metadata": {},
   "outputs": [],
   "source": []
  }
 ],
 "metadata": {
  "kernelspec": {
   "display_name": "Python 3 (ipykernel)",
   "language": "python",
   "name": "python3"
  },
  "language_info": {
   "codemirror_mode": {
    "name": "ipython",
    "version": 3
   },
   "file_extension": ".py",
   "mimetype": "text/x-python",
   "name": "python",
   "nbconvert_exporter": "python",
   "pygments_lexer": "ipython3",
   "version": "3.9.13"
  }
 },
 "nbformat": 4,
 "nbformat_minor": 1
}
